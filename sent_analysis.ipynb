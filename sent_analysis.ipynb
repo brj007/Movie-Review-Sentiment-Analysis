{
  "nbformat": 4,
  "nbformat_minor": 0,
  "metadata": {
    "colab": {
      "name": "sent_analysis.ipynb",
      "version": "0.3.2",
      "provenance": [],
      "collapsed_sections": [],
      "toc_visible": true,
      "include_colab_link": true
    },
    "kernelspec": {
      "name": "python3",
      "display_name": "Python 3"
    }
  },
  "cells": [
    {
      "cell_type": "markdown",
      "metadata": {
        "id": "view-in-github",
        "colab_type": "text"
      },
      "source": [
        "<a href=\"https://colab.research.google.com/github/brj007/Movie-Review-Sentiment-Analysis/blob/master/sent_analysis.ipynb\" target=\"_parent\"><img src=\"https://colab.research.google.com/assets/colab-badge.svg\" alt=\"Open In Colab\"/></a>"
      ]
    },
    {
      "metadata": {
        "id": "ZHy5UD-6RxVi",
        "colab_type": "code",
        "colab": {}
      },
      "cell_type": "code",
      "source": [
        "import pandas as pd\n",
        "import tensorflow as tf\n",
        "import numpy as np\n",
        "import matplotlib.pyplot as plt\n",
        "from string import punctuation\n",
        "from collections import Counter\n",
        "%matplotlib inline"
      ],
      "execution_count": 0,
      "outputs": []
    },
    {
      "metadata": {
        "id": "X86gGqTSSBxt",
        "colab_type": "code",
        "colab": {}
      },
      "cell_type": "code",
      "source": [
        "sentiment_data = pd.read_csv('kaggle_sentiment1.csv',sep='\\t',encoding='latin-1')\n",
        "sentiment_data.columns =['Class', 'Data']"
      ],
      "execution_count": 0,
      "outputs": []
    },
    {
      "metadata": {
        "id": "UFU-WDwAW6qC",
        "colab_type": "code",
        "colab": {}
      },
      "cell_type": "code",
      "source": [
        "unlabeld_data = pd.read_csv('unlabeld_data.txt', sep='\\t',encoding='latin-1')\n",
        "unlabeld_data.columns = ['Data']"
      ],
      "execution_count": 0,
      "outputs": []
    },
    {
      "metadata": {
        "id": "ryIb2eYuW_Hh",
        "colab_type": "code",
        "colab": {
          "base_uri": "https://localhost:8080/",
          "height": 195
        },
        "outputId": "8da8c036-3776-4a06-d082-486fad803a44"
      },
      "cell_type": "code",
      "source": [
        "sentiment_data.head()"
      ],
      "execution_count": 6,
      "outputs": [
        {
          "output_type": "execute_result",
          "data": {
            "text/html": [
              "<div>\n",
              "<style scoped>\n",
              "    .dataframe tbody tr th:only-of-type {\n",
              "        vertical-align: middle;\n",
              "    }\n",
              "\n",
              "    .dataframe tbody tr th {\n",
              "        vertical-align: top;\n",
              "    }\n",
              "\n",
              "    .dataframe thead th {\n",
              "        text-align: right;\n",
              "    }\n",
              "</style>\n",
              "<table border=\"1\" class=\"dataframe\">\n",
              "  <thead>\n",
              "    <tr style=\"text-align: right;\">\n",
              "      <th></th>\n",
              "      <th>Class</th>\n",
              "      <th>Data</th>\n",
              "    </tr>\n",
              "  </thead>\n",
              "  <tbody>\n",
              "    <tr>\n",
              "      <th>0</th>\n",
              "      <td>1</td>\n",
              "      <td>this was the first clive cussler i've ever rea...</td>\n",
              "    </tr>\n",
              "    <tr>\n",
              "      <th>1</th>\n",
              "      <td>1</td>\n",
              "      <td>i liked the Da Vinci Code a lot.</td>\n",
              "    </tr>\n",
              "    <tr>\n",
              "      <th>2</th>\n",
              "      <td>1</td>\n",
              "      <td>i liked the Da Vinci Code a lot.</td>\n",
              "    </tr>\n",
              "    <tr>\n",
              "      <th>3</th>\n",
              "      <td>1</td>\n",
              "      <td>I liked the Da Vinci Code but it ultimatly did...</td>\n",
              "    </tr>\n",
              "    <tr>\n",
              "      <th>4</th>\n",
              "      <td>1</td>\n",
              "      <td>that's not even an exaggeration ) and at midni...</td>\n",
              "    </tr>\n",
              "  </tbody>\n",
              "</table>\n",
              "</div>"
            ],
            "text/plain": [
              "   Class                                               Data\n",
              "0      1  this was the first clive cussler i've ever rea...\n",
              "1      1                   i liked the Da Vinci Code a lot.\n",
              "2      1                   i liked the Da Vinci Code a lot.\n",
              "3      1  I liked the Da Vinci Code but it ultimatly did...\n",
              "4      1  that's not even an exaggeration ) and at midni..."
            ]
          },
          "metadata": {
            "tags": []
          },
          "execution_count": 6
        }
      ]
    },
    {
      "metadata": {
        "id": "r69MLzFVXJxG",
        "colab_type": "code",
        "colab": {
          "base_uri": "https://localhost:8080/",
          "height": 195
        },
        "outputId": "a64ee8e7-70d7-4b58-a152-bd2b223cc469"
      },
      "cell_type": "code",
      "source": [
        "unlabeld_data.head()"
      ],
      "execution_count": 7,
      "outputs": [
        {
          "output_type": "execute_result",
          "data": {
            "text/html": [
              "<div>\n",
              "<style scoped>\n",
              "    .dataframe tbody tr th:only-of-type {\n",
              "        vertical-align: middle;\n",
              "    }\n",
              "\n",
              "    .dataframe tbody tr th {\n",
              "        vertical-align: top;\n",
              "    }\n",
              "\n",
              "    .dataframe thead th {\n",
              "        text-align: right;\n",
              "    }\n",
              "</style>\n",
              "<table border=\"1\" class=\"dataframe\">\n",
              "  <thead>\n",
              "    <tr style=\"text-align: right;\">\n",
              "      <th></th>\n",
              "      <th>Data</th>\n",
              "    </tr>\n",
              "  </thead>\n",
              "  <tbody>\n",
              "    <tr>\n",
              "      <th>0</th>\n",
              "      <td>harvard is dumb, i mean they really have to be...</td>\n",
              "    </tr>\n",
              "    <tr>\n",
              "      <th>1</th>\n",
              "      <td>I'm loving Shanghai &gt; &gt; &gt; ^ _ ^.</td>\n",
              "    </tr>\n",
              "    <tr>\n",
              "      <th>2</th>\n",
              "      <td>harvard is for dumb people.</td>\n",
              "    </tr>\n",
              "    <tr>\n",
              "      <th>3</th>\n",
              "      <td>As i stepped out of my beautiful Toyota, i hea...</td>\n",
              "    </tr>\n",
              "    <tr>\n",
              "      <th>4</th>\n",
              "      <td>Bodies being dismembered, blown apart, and mut...</td>\n",
              "    </tr>\n",
              "  </tbody>\n",
              "</table>\n",
              "</div>"
            ],
            "text/plain": [
              "                                                Data\n",
              "0  harvard is dumb, i mean they really have to be...\n",
              "1                   I'm loving Shanghai > > > ^ _ ^.\n",
              "2                        harvard is for dumb people.\n",
              "3  As i stepped out of my beautiful Toyota, i hea...\n",
              "4  Bodies being dismembered, blown apart, and mut..."
            ]
          },
          "metadata": {
            "tags": []
          },
          "execution_count": 7
        }
      ]
    },
    {
      "metadata": {
        "id": "aiamqh4PXPwx",
        "colab_type": "code",
        "colab": {}
      },
      "cell_type": "code",
      "source": [
        "from sklearn.utils import shuffle\n",
        "sentiment_data = shuffle(sentiment_data)\n",
        "unlabeld_data = shuffle(unlabeld_data)"
      ],
      "execution_count": 0,
      "outputs": []
    },
    {
      "metadata": {
        "id": "NY_CcxF0XU2M",
        "colab_type": "code",
        "colab": {
          "base_uri": "https://localhost:8080/",
          "height": 195
        },
        "outputId": "b4f5e349-22ca-47e6-fb33-1ef14930dda3"
      },
      "cell_type": "code",
      "source": [
        "sentiment_data.head()"
      ],
      "execution_count": 9,
      "outputs": [
        {
          "output_type": "execute_result",
          "data": {
            "text/html": [
              "<div>\n",
              "<style scoped>\n",
              "    .dataframe tbody tr th:only-of-type {\n",
              "        vertical-align: middle;\n",
              "    }\n",
              "\n",
              "    .dataframe tbody tr th {\n",
              "        vertical-align: top;\n",
              "    }\n",
              "\n",
              "    .dataframe thead th {\n",
              "        text-align: right;\n",
              "    }\n",
              "</style>\n",
              "<table border=\"1\" class=\"dataframe\">\n",
              "  <thead>\n",
              "    <tr style=\"text-align: right;\">\n",
              "      <th></th>\n",
              "      <th>Class</th>\n",
              "      <th>Data</th>\n",
              "    </tr>\n",
              "  </thead>\n",
              "  <tbody>\n",
              "    <tr>\n",
              "      <th>3743</th>\n",
              "      <td>1</td>\n",
              "      <td>I love Brokeback Mountain....</td>\n",
              "    </tr>\n",
              "    <tr>\n",
              "      <th>965</th>\n",
              "      <td>1</td>\n",
              "      <td>I love The Da Vinci Code...</td>\n",
              "    </tr>\n",
              "    <tr>\n",
              "      <th>6060</th>\n",
              "      <td>0</td>\n",
              "      <td>1-BROKEBACK MOUNTAIN IS A STUPID MOVIE.</td>\n",
              "    </tr>\n",
              "    <tr>\n",
              "      <th>2390</th>\n",
              "      <td>1</td>\n",
              "      <td>I, too, like Harry Potter..</td>\n",
              "    </tr>\n",
              "    <tr>\n",
              "      <th>101</th>\n",
              "      <td>1</td>\n",
              "      <td>to their right ALSO read and LOVED the Da Vinc...</td>\n",
              "    </tr>\n",
              "  </tbody>\n",
              "</table>\n",
              "</div>"
            ],
            "text/plain": [
              "      Class                                               Data\n",
              "3743      1                      I love Brokeback Mountain....\n",
              "965       1                        I love The Da Vinci Code...\n",
              "6060      0            1-BROKEBACK MOUNTAIN IS A STUPID MOVIE.\n",
              "2390      1                        I, too, like Harry Potter..\n",
              "101       1  to their right ALSO read and LOVED the Da Vinc..."
            ]
          },
          "metadata": {
            "tags": []
          },
          "execution_count": 9
        }
      ]
    },
    {
      "metadata": {
        "id": "nLbmsuBLXeV9",
        "colab_type": "code",
        "colab": {}
      },
      "cell_type": "code",
      "source": [
        "labels = sentiment_data.iloc[:, 0].values\n",
        "reviews = sentiment_data.iloc[:, 1].values\n",
        "unlabeled_reviews = unlabeld_data.iloc[:,0].values"
      ],
      "execution_count": 0,
      "outputs": []
    },
    {
      "metadata": {
        "id": "uzhG_TP_XjBC",
        "colab_type": "code",
        "colab": {}
      },
      "cell_type": "code",
      "source": [
        "reviews_processed = []\n",
        "unlabeled_processed = [] \n",
        "for review in reviews:\n",
        "    review_cool_one = ''.join([char for char in review if char not in punctuation])\n",
        "    reviews_processed.append(review_cool_one)\n",
        "    \n",
        "for review in unlabeled_reviews:\n",
        "    review_cool_one = ''.join([char for char in review if char not in punctuation])\n",
        "    unlabeled_processed.append(review_cool_one)\n",
        "    word_reviews = []\n",
        "word_unlabeled = []\n",
        "all_words = []\n",
        "for review in reviews_processed:\n",
        "    word_reviews.append(review.lower().split())\n",
        "    for word in review.split():\n",
        "        all_words.append(word.lower())\n",
        "\n",
        "for review in unlabeled_processed:\n",
        "    word_unlabeled.append(review.lower().split())\n",
        "    for word in review.split():\n",
        "        all_words.append(word.lower())\n",
        "    \n",
        "counter = Counter(all_words)\n",
        "vocab = sorted(counter, key=counter.get, reverse=True)"
      ],
      "execution_count": 0,
      "outputs": []
    },
    {
      "metadata": {
        "id": "lcPmY38fXvLc",
        "colab_type": "code",
        "colab": {
          "base_uri": "https://localhost:8080/",
          "height": 50
        },
        "outputId": "1c32302d-d533-489d-ac63-4594adec968d"
      },
      "cell_type": "code",
      "source": [
        "vocab_to_int = {word: i for i, word in enumerate(vocab, 1)}\n",
        "reviews_to_ints = []\n",
        "for review in word_reviews:\n",
        "    reviews_to_ints.append([vocab_to_int[word] for word in review])\n",
        "    unlabeled_to_ints = []\n",
        "\n",
        "for review in word_unlabeled:\n",
        "    unlabeled_to_ints.append([vocab_to_int[word] for word in review])\n",
        "    reviews_lens = Counter([len(x) for x in reviews_to_ints])\n",
        "print('Zero-length {}'.format(reviews_lens[0]))\n",
        "print(\"Max review length {}\".format(max(reviews_lens)))"
      ],
      "execution_count": 13,
      "outputs": [
        {
          "output_type": "stream",
          "text": [
            "Zero-length 0\n",
            "Max review length 931\n"
          ],
          "name": "stdout"
        }
      ]
    },
    {
      "metadata": {
        "id": "Ek6g3PJCYOx0",
        "colab_type": "code",
        "colab": {
          "base_uri": "https://localhost:8080/",
          "height": 50
        },
        "outputId": "58628711-b6e9-403e-af9b-e641b0b1ffdf"
      },
      "cell_type": "code",
      "source": [
        "seq_len = 250\n",
        "\n",
        "features = np.zeros((len(reviews_to_ints), seq_len), dtype=int)\n",
        "for i, review in enumerate(reviews_to_ints):\n",
        "    features[i, -len(review):] = np.array(review)[:seq_len]\n",
        "    \n",
        "features_test = np.zeros((len(unlabeled_to_ints), seq_len), dtype=int)\n",
        "for i, review in enumerate(unlabeled_to_ints):\n",
        "    features_test[i, -len(review):] = np.array(review)[:seq_len]\n",
        "    X_train = features[:6400]\n",
        "y_train = labels[:6400]\n",
        "\n",
        "X_test = features[6400:]\n",
        "y_test = labels[6400:]\n",
        "\n",
        "X_unlabeled = features_test\n",
        "\n",
        "print('X_train shape {}'.format(X_train.shape))\n",
        "print('X_unlabeled shape {}'.format(X_unlabeled.shape))"
      ],
      "execution_count": 20,
      "outputs": [
        {
          "output_type": "stream",
          "text": [
            "X_train shape (6400, 250)\n",
            "X_unlabeled shape (28936, 250)\n"
          ],
          "name": "stdout"
        }
      ]
    },
    {
      "metadata": {
        "id": "TkIZeDZPYcHO",
        "colab_type": "code",
        "colab": {}
      },
      "cell_type": "code",
      "source": [
        "hidden_layer_size = 512 # how many nodes LSTM cells will have\n",
        "number_of_layers = 1 # how many RNN layers the network will use\n",
        "batch_size = 100 # how many reviews we feed at onces\n",
        "learning_rate = 0.001 # learning rate\n",
        "number_of_words = len(vocab_to_int) + 1 #how many unique words do we have in vocab (+1  is used for 0 - padding)\n",
        "dropout_rate = 0.8 \n",
        "embed_size = 300 #how long our word embedings will be\n",
        "epochs = 6 # how many epochs do we use for training\n",
        "tf.reset_default_graph() #Clean the graph\n",
        "inputs = tf.placeholder(tf.int32, [None, None], name='inputs')\n",
        "targets = tf.placeholder(tf.int32, [None, None], name='targets')"
      ],
      "execution_count": 0,
      "outputs": []
    },
    {
      "metadata": {
        "id": "GN3prxLTb01l",
        "colab_type": "code",
        "colab": {}
      },
      "cell_type": "code",
      "source": [
        "word_embedings = tf.Variable(tf.random_uniform((number_of_words, embed_size), -1, 1))\n",
        "embed = tf.nn.embedding_lookup(word_embedings, inputs)\n",
        "hidden_layer = tf.contrib.rnn.BasicLSTMCell(hidden_layer_size)\n",
        "hidden_layer = tf.contrib.rnn.DropoutWrapper(hidden_layer, dropout_rate)\n",
        "\n",
        "cell = tf.contrib.rnn.MultiRNNCell([hidden_layer]*number_of_layers)\n",
        "init_state = cell.zero_state(batch_size, tf.float32)"
      ],
      "execution_count": 0,
      "outputs": []
    },
    {
      "metadata": {
        "id": "SGKCp_Rzb5SQ",
        "colab_type": "code",
        "colab": {}
      },
      "cell_type": "code",
      "source": [
        "outputs, states = tf.nn.dynamic_rnn(cell, embed, initial_state=init_state)\n",
        "prediction = tf.layers.dense(outputs[:, -1], 1, activation=tf.sigmoid)\n",
        "cost = tf.losses.mean_squared_error(targets, prediction)\n",
        "\n",
        "optimizer = tf.train.AdamOptimizer(learning_rate).minimize(cost)\n",
        "currect_pred = tf.equal(tf.cast(tf.round(prediction), tf.int32), targets)\n",
        "accuracy = tf.reduce_mean(tf.cast(currect_pred, tf.float32))\n",
        "session = tf.Session()\n",
        "session.run(tf.global_variables_initializer())"
      ],
      "execution_count": 0,
      "outputs": []
    },
    {
      "metadata": {
        "id": "7ImVq7J-cFZK",
        "colab_type": "code",
        "colab": {
          "base_uri": "https://localhost:8080/",
          "height": 118
        },
        "outputId": "da196cde-9b9f-477f-f4ae-d94407d507c3"
      },
      "cell_type": "code",
      "source": [
        "for i in range(epochs):\n",
        "    training_accurcy = []\n",
        "    ii = 0\n",
        "    epoch_loss = []\n",
        "    while ii + batch_size <= len(X_train):\n",
        "        X_batch = X_train[ii:ii+batch_size]\n",
        "        y_batch = y_train[ii:ii+batch_size].reshape(-1, 1)\n",
        "        \n",
        "        a, o, _ = session.run([accuracy, cost, optimizer], feed_dict={inputs:X_batch, targets:y_batch})\n",
        "\n",
        "        training_accurcy.append(a)\n",
        "        epoch_loss.append(o)\n",
        "        ii += batch_size\n",
        "    print('Epoch: {}/{}'.format(i, epochs), ' | Current loss: {}'.format(np.mean(epoch_loss)),\n",
        "          ' | Training accuracy: {:.4f}'.format(np.mean(training_accurcy)*100))"
      ],
      "execution_count": 19,
      "outputs": [
        {
          "output_type": "stream",
          "text": [
            "Epoch: 0/6  | Current loss: 0.04026738554239273  | Training accuracy: 94.8438\n",
            "Epoch: 1/6  | Current loss: 0.009149414487183094  | Training accuracy: 98.8594\n",
            "Epoch: 2/6  | Current loss: 0.004835137166082859  | Training accuracy: 99.4219\n",
            "Epoch: 3/6  | Current loss: 0.002597333397716284  | Training accuracy: 99.7187\n",
            "Epoch: 4/6  | Current loss: 0.0012043464230373502  | Training accuracy: 99.8906\n",
            "Epoch: 5/6  | Current loss: 0.0007803334738127887  | Training accuracy: 99.9219\n"
          ],
          "name": "stdout"
        }
      ]
    },
    {
      "metadata": {
        "id": "9OWsTUiUoRBy",
        "colab_type": "code",
        "colab": {
          "base_uri": "https://localhost:8080/",
          "height": 34
        },
        "outputId": "16f0ab96-89f3-4511-e64d-f8c4e190a815"
      },
      "cell_type": "code",
      "source": [
        "test_accuracy = []\n",
        "\n",
        "ii = 0\n",
        "while ii + batch_size <= len(X_test):\n",
        "    X_batch = X_test[ii:ii+batch_size]\n",
        "    y_batch = y_test[ii:ii+batch_size].reshape(-1, 1)\n",
        "\n",
        "    a = session.run([accuracy], feed_dict={inputs:X_batch, targets:y_batch})\n",
        "    \n",
        "    test_accuracy.append(a)\n",
        "    ii += batch_size\n",
        "print(\"Test accuracy is {:.4f}%\".format(np.mean(test_accuracy)*100))"
      ],
      "execution_count": 21,
      "outputs": [
        {
          "output_type": "stream",
          "text": [
            "Test accuracy is 98.8000%\n"
          ],
          "name": "stdout"
        }
      ]
    },
    {
      "metadata": {
        "id": "obOaztFcoe6H",
        "colab_type": "code",
        "colab": {
          "base_uri": "https://localhost:8080/",
          "height": 34
        },
        "outputId": "d2fd3ec3-af4a-402c-df89-f8b079391f35"
      },
      "cell_type": "code",
      "source": [
        "predictions_unlabeled = []\n",
        "ii = 0\n",
        "while ii + batch_size <= len(X_unlabeled):\n",
        "    if ii + batch_size > len(X_unlabeled):\n",
        "        batch_size = len(X_unlabeled) - ii\n",
        "    X_batch = X_unlabeled[ii:ii+batch_size]\n",
        "    y_batch = X_unlabeled[ii:ii+batch_size].reshape(-1, 1)\n",
        "\n",
        "    pred = session.run([prediction], feed_dict={inputs:X_batch, targets:y_batch})\n",
        "    \n",
        "    predictions_unlabeled.append(pred)\n",
        "    ii += batch_size\n",
        "print(\"Test accuracy is {:.4f}%\".format(np.mean(predictions_unlabeled)*100))"
      ],
      "execution_count": 22,
      "outputs": [
        {
          "output_type": "stream",
          "text": [
            "Test accuracy is 56.5191%\n"
          ],
          "name": "stdout"
        }
      ]
    },
    {
      "metadata": {
        "id": "QuCpVOshvFn8",
        "colab_type": "code",
        "colab": {
          "base_uri": "https://localhost:8080/",
          "height": 138
        },
        "outputId": "cacdb841-4217-43ce-c57a-517d3a6c748f"
      },
      "cell_type": "code",
      "source": [
        "pred_real = []\n",
        "for i in range(len(predictions_unlabeled)):\n",
        "    for ii in range(len(predictions_unlabeled[i][0])):\n",
        "        if predictions_unlabeled[i][0][ii][0] >= 0.5:\n",
        "            pred_real.append(1)\n",
        "        else:\n",
        "            pred_real.append(0)\n",
        "np.savetxt('predictions.txt', pred_real)\n",
        "new_dataframe = unlabeld_data[:len(pred_real)]\n",
        "new_dataframe['Classes'] = pred_real"
      ],
      "execution_count": 23,
      "outputs": [
        {
          "output_type": "stream",
          "text": [
            "/usr/local/lib/python3.6/dist-packages/ipykernel_launcher.py:10: SettingWithCopyWarning: \n",
            "A value is trying to be set on a copy of a slice from a DataFrame.\n",
            "Try using .loc[row_indexer,col_indexer] = value instead\n",
            "\n",
            "See the caveats in the documentation: http://pandas.pydata.org/pandas-docs/stable/indexing.html#indexing-view-versus-copy\n",
            "  # Remove the CWD from sys.path while we load stuff.\n"
          ],
          "name": "stderr"
        }
      ]
    },
    {
      "metadata": {
        "id": "6lp4-u2UvSMw",
        "colab_type": "code",
        "colab": {
          "base_uri": "https://localhost:8080/",
          "height": 1882
        },
        "outputId": "892e14de-c38e-4f0d-8c25-219f5d33a16a"
      },
      "cell_type": "code",
      "source": [
        "new_dataframe"
      ],
      "execution_count": 24,
      "outputs": [
        {
          "output_type": "execute_result",
          "data": {
            "text/html": [
              "<div>\n",
              "<style scoped>\n",
              "    .dataframe tbody tr th:only-of-type {\n",
              "        vertical-align: middle;\n",
              "    }\n",
              "\n",
              "    .dataframe tbody tr th {\n",
              "        vertical-align: top;\n",
              "    }\n",
              "\n",
              "    .dataframe thead th {\n",
              "        text-align: right;\n",
              "    }\n",
              "</style>\n",
              "<table border=\"1\" class=\"dataframe\">\n",
              "  <thead>\n",
              "    <tr style=\"text-align: right;\">\n",
              "      <th></th>\n",
              "      <th>Data</th>\n",
              "      <th>Classes</th>\n",
              "    </tr>\n",
              "  </thead>\n",
              "  <tbody>\n",
              "    <tr>\n",
              "      <th>4125</th>\n",
              "      <td>I love the London Little People, btw.</td>\n",
              "      <td>1</td>\n",
              "    </tr>\n",
              "    <tr>\n",
              "      <th>16053</th>\n",
              "      <td>I also am a big fan of Toyota.</td>\n",
              "      <td>1</td>\n",
              "    </tr>\n",
              "    <tr>\n",
              "      <th>2010</th>\n",
              "      <td>i want to see aaa.... &gt; &lt;.</td>\n",
              "      <td>0</td>\n",
              "    </tr>\n",
              "    <tr>\n",
              "      <th>18847</th>\n",
              "      <td>I love Boston too!</td>\n",
              "      <td>1</td>\n",
              "    </tr>\n",
              "    <tr>\n",
              "      <th>21632</th>\n",
              "      <td>Prolly going to Cambridge on Tuesday, I need t...</td>\n",
              "      <td>1</td>\n",
              "    </tr>\n",
              "    <tr>\n",
              "      <th>9431</th>\n",
              "      <td>I think Angelina Jolie is so much more beautif...</td>\n",
              "      <td>1</td>\n",
              "    </tr>\n",
              "    <tr>\n",
              "      <th>26610</th>\n",
              "      <td>I used to think the Mastercard commercials wer...</td>\n",
              "      <td>0</td>\n",
              "    </tr>\n",
              "    <tr>\n",
              "      <th>4183</th>\n",
              "      <td>I LOVE SEATTLE.</td>\n",
              "      <td>1</td>\n",
              "    </tr>\n",
              "    <tr>\n",
              "      <th>26628</th>\n",
              "      <td>stupid lakers....</td>\n",
              "      <td>0</td>\n",
              "    </tr>\n",
              "    <tr>\n",
              "      <th>27176</th>\n",
              "      <td>i look across my beautiful boston, and somethi...</td>\n",
              "      <td>0</td>\n",
              "    </tr>\n",
              "    <tr>\n",
              "      <th>2381</th>\n",
              "      <td>i love shanghai ~ ~ ~ ~ ????????????????? ~ ~ ~.</td>\n",
              "      <td>1</td>\n",
              "    </tr>\n",
              "    <tr>\n",
              "      <th>19471</th>\n",
              "      <td>I love the San Antonio Spurs!!.</td>\n",
              "      <td>1</td>\n",
              "    </tr>\n",
              "    <tr>\n",
              "      <th>23127</th>\n",
              "      <td>We need a Boston Tea Party to save us from thi...</td>\n",
              "      <td>0</td>\n",
              "    </tr>\n",
              "    <tr>\n",
              "      <th>20697</th>\n",
              "      <td>I so want a MacBook.</td>\n",
              "      <td>0</td>\n",
              "    </tr>\n",
              "    <tr>\n",
              "      <th>26218</th>\n",
              "      <td>= D i love Tom Cruise!!!</td>\n",
              "      <td>1</td>\n",
              "    </tr>\n",
              "    <tr>\n",
              "      <th>20256</th>\n",
              "      <td>i think if i hate boston, ill just disappear t...</td>\n",
              "      <td>0</td>\n",
              "    </tr>\n",
              "    <tr>\n",
              "      <th>10909</th>\n",
              "      <td>personally, i still love my 1999 toyota camry,...</td>\n",
              "      <td>1</td>\n",
              "    </tr>\n",
              "    <tr>\n",
              "      <th>28422</th>\n",
              "      <td>For those who say he doesn't deserve it cuz th...</td>\n",
              "      <td>0</td>\n",
              "    </tr>\n",
              "    <tr>\n",
              "      <th>23808</th>\n",
              "      <td>personally, i still love my 1999 toyota camry,...</td>\n",
              "      <td>1</td>\n",
              "    </tr>\n",
              "    <tr>\n",
              "      <th>2951</th>\n",
              "      <td>London yesterday kinda sucked tbh, well, the H...</td>\n",
              "      <td>0</td>\n",
              "    </tr>\n",
              "    <tr>\n",
              "      <th>10112</th>\n",
              "      <td>welp i guess thats why i love seattle = ].</td>\n",
              "      <td>1</td>\n",
              "    </tr>\n",
              "    <tr>\n",
              "      <th>9669</th>\n",
              "      <td>I'm beginning to really distrust Toyota dealer...</td>\n",
              "      <td>1</td>\n",
              "    </tr>\n",
              "    <tr>\n",
              "      <th>16680</th>\n",
              "      <td>I like the sony vaio, but I'm glad you're happ...</td>\n",
              "      <td>1</td>\n",
              "    </tr>\n",
              "    <tr>\n",
              "      <th>13400</th>\n",
              "      <td>PURDUE FUCKIN ROCKS!!!</td>\n",
              "      <td>1</td>\n",
              "    </tr>\n",
              "    <tr>\n",
              "      <th>24218</th>\n",
              "      <td>, Boston is great...</td>\n",
              "      <td>0</td>\n",
              "    </tr>\n",
              "    <tr>\n",
              "      <th>22199</th>\n",
              "      <td>London yesterday kinda sucked tbh, well, the H...</td>\n",
              "      <td>0</td>\n",
              "    </tr>\n",
              "    <tr>\n",
              "      <th>27864</th>\n",
              "      <td>then again i hate tom cruise..</td>\n",
              "      <td>0</td>\n",
              "    </tr>\n",
              "    <tr>\n",
              "      <th>7064</th>\n",
              "      <td>Today, when Monkee was backing out of the Milp...</td>\n",
              "      <td>1</td>\n",
              "    </tr>\n",
              "    <tr>\n",
              "      <th>2858</th>\n",
              "      <td>i dont know anything about cars but i love my ...</td>\n",
              "      <td>0</td>\n",
              "    </tr>\n",
              "    <tr>\n",
              "      <th>15368</th>\n",
              "      <td>It was really ironic that he spent the first p...</td>\n",
              "      <td>0</td>\n",
              "    </tr>\n",
              "    <tr>\n",
              "      <th>...</th>\n",
              "      <td>...</td>\n",
              "      <td>...</td>\n",
              "    </tr>\n",
              "    <tr>\n",
              "      <th>26852</th>\n",
              "      <td>oh! Traffic in Seattle sucks!</td>\n",
              "      <td>0</td>\n",
              "    </tr>\n",
              "    <tr>\n",
              "      <th>6847</th>\n",
              "      <td>I told her that UCLA is excellent for both...</td>\n",
              "      <td>1</td>\n",
              "    </tr>\n",
              "    <tr>\n",
              "      <th>4388</th>\n",
              "      <td>i love shanghai!</td>\n",
              "      <td>1</td>\n",
              "    </tr>\n",
              "    <tr>\n",
              "      <th>26531</th>\n",
              "      <td>will admitting that the new york knicks suck...</td>\n",
              "      <td>0</td>\n",
              "    </tr>\n",
              "    <tr>\n",
              "      <th>11588</th>\n",
              "      <td>I hate paris hilton too!</td>\n",
              "      <td>0</td>\n",
              "    </tr>\n",
              "    <tr>\n",
              "      <th>28804</th>\n",
              "      <td>I hate London!!!!!!!</td>\n",
              "      <td>0</td>\n",
              "    </tr>\n",
              "    <tr>\n",
              "      <th>25553</th>\n",
              "      <td>I love Boston too!</td>\n",
              "      <td>1</td>\n",
              "    </tr>\n",
              "    <tr>\n",
              "      <th>7337</th>\n",
              "      <td>Harvard Square is a beautiful sight when the w...</td>\n",
              "      <td>1</td>\n",
              "    </tr>\n",
              "    <tr>\n",
              "      <th>28428</th>\n",
              "      <td>But then he goes and tells me that Boston sucks.</td>\n",
              "      <td>0</td>\n",
              "    </tr>\n",
              "    <tr>\n",
              "      <th>26340</th>\n",
              "      <td>the dallas mavericks suck.</td>\n",
              "      <td>0</td>\n",
              "    </tr>\n",
              "    <tr>\n",
              "      <th>17628</th>\n",
              "      <td>War is hell for any President and I believe My...</td>\n",
              "      <td>0</td>\n",
              "    </tr>\n",
              "    <tr>\n",
              "      <th>20702</th>\n",
              "      <td>And i've managed to cover all of my own food e...</td>\n",
              "      <td>1</td>\n",
              "    </tr>\n",
              "    <tr>\n",
              "      <th>17935</th>\n",
              "      <td>seattle sucks anyways.</td>\n",
              "      <td>0</td>\n",
              "    </tr>\n",
              "    <tr>\n",
              "      <th>9440</th>\n",
              "      <td>i love Kappo Honda, which is across the street..</td>\n",
              "      <td>1</td>\n",
              "    </tr>\n",
              "    <tr>\n",
              "      <th>425</th>\n",
              "      <td>UCLA is beautiful because it's so hilly, but I...</td>\n",
              "      <td>0</td>\n",
              "    </tr>\n",
              "    <tr>\n",
              "      <th>9962</th>\n",
              "      <td>so we had to call his mom and they came then w...</td>\n",
              "      <td>0</td>\n",
              "    </tr>\n",
              "    <tr>\n",
              "      <th>15044</th>\n",
              "      <td>As much as I hate Tom Cruise..</td>\n",
              "      <td>0</td>\n",
              "    </tr>\n",
              "    <tr>\n",
              "      <th>23812</th>\n",
              "      <td>I can only imagine, with the bloated egos and ...</td>\n",
              "      <td>1</td>\n",
              "    </tr>\n",
              "    <tr>\n",
              "      <th>17147</th>\n",
              "      <td>UCLA is stupid, I realized.</td>\n",
              "      <td>0</td>\n",
              "    </tr>\n",
              "    <tr>\n",
              "      <th>11152</th>\n",
              "      <td>i hate the Lakers too but this isn't a basketb...</td>\n",
              "      <td>0</td>\n",
              "    </tr>\n",
              "    <tr>\n",
              "      <th>15591</th>\n",
              "      <td>+ + + Bruce Willis hat den PrÃ ¤ sident von Ko...</td>\n",
              "      <td>0</td>\n",
              "    </tr>\n",
              "    <tr>\n",
              "      <th>1573</th>\n",
              "      <td>It's not like we want to see the Dallas Maveri...</td>\n",
              "      <td>1</td>\n",
              "    </tr>\n",
              "    <tr>\n",
              "      <th>1534</th>\n",
              "      <td>i prefer teams such as the San Antonio Spurs a...</td>\n",
              "      <td>0</td>\n",
              "    </tr>\n",
              "    <tr>\n",
              "      <th>1637</th>\n",
              "      <td>Personally, I blame Angelina Jolie, a psycholo...</td>\n",
              "      <td>0</td>\n",
              "    </tr>\n",
              "    <tr>\n",
              "      <th>8562</th>\n",
              "      <td>By the way, I hate LONDON...</td>\n",
              "      <td>0</td>\n",
              "    </tr>\n",
              "    <tr>\n",
              "      <th>23373</th>\n",
              "      <td>????that stupid BOX CAR-HONDA CRX = o = ? CRAP...</td>\n",
              "      <td>0</td>\n",
              "    </tr>\n",
              "    <tr>\n",
              "      <th>14209</th>\n",
              "      <td>i look across my beautiful boston, and somethi...</td>\n",
              "      <td>1</td>\n",
              "    </tr>\n",
              "    <tr>\n",
              "      <th>803</th>\n",
              "      <td>i love seattle so much.</td>\n",
              "      <td>1</td>\n",
              "    </tr>\n",
              "    <tr>\n",
              "      <th>3678</th>\n",
              "      <td>i love my new Macbook..</td>\n",
              "      <td>1</td>\n",
              "    </tr>\n",
              "    <tr>\n",
              "      <th>7152</th>\n",
              "      <td>I really hate Tom Cruise.</td>\n",
              "      <td>0</td>\n",
              "    </tr>\n",
              "  </tbody>\n",
              "</table>\n",
              "<p>28900 rows × 2 columns</p>\n",
              "</div>"
            ],
            "text/plain": [
              "                                                    Data  Classes\n",
              "4125               I love the London Little People, btw.        1\n",
              "16053                     I also am a big fan of Toyota.        1\n",
              "2010                          i want to see aaa.... > <.        0\n",
              "18847                                 I love Boston too!        1\n",
              "21632  Prolly going to Cambridge on Tuesday, I need t...        1\n",
              "9431   I think Angelina Jolie is so much more beautif...        1\n",
              "26610  I used to think the Mastercard commercials wer...        0\n",
              "4183                                     I LOVE SEATTLE.        1\n",
              "26628                                  stupid lakers....        0\n",
              "27176  i look across my beautiful boston, and somethi...        0\n",
              "2381    i love shanghai ~ ~ ~ ~ ????????????????? ~ ~ ~.        1\n",
              "19471                    I love the San Antonio Spurs!!.        1\n",
              "23127  We need a Boston Tea Party to save us from thi...        0\n",
              "20697                               I so want a MacBook.        0\n",
              "26218                           = D i love Tom Cruise!!!        1\n",
              "20256  i think if i hate boston, ill just disappear t...        0\n",
              "10909  personally, i still love my 1999 toyota camry,...        1\n",
              "28422  For those who say he doesn't deserve it cuz th...        0\n",
              "23808  personally, i still love my 1999 toyota camry,...        1\n",
              "2951   London yesterday kinda sucked tbh, well, the H...        0\n",
              "10112         welp i guess thats why i love seattle = ].        1\n",
              "9669   I'm beginning to really distrust Toyota dealer...        1\n",
              "16680  I like the sony vaio, but I'm glad you're happ...        1\n",
              "13400                             PURDUE FUCKIN ROCKS!!!        1\n",
              "24218                               , Boston is great...        0\n",
              "22199  London yesterday kinda sucked tbh, well, the H...        0\n",
              "27864                     then again i hate tom cruise..        0\n",
              "7064   Today, when Monkee was backing out of the Milp...        1\n",
              "2858   i dont know anything about cars but i love my ...        0\n",
              "15368  It was really ironic that he spent the first p...        0\n",
              "...                                                  ...      ...\n",
              "26852                      oh! Traffic in Seattle sucks!        0\n",
              "6847       I told her that UCLA is excellent for both...        1\n",
              "4388                                    i love shanghai!        1\n",
              "26531    will admitting that the new york knicks suck...        0\n",
              "11588                           I hate paris hilton too!        0\n",
              "28804                               I hate London!!!!!!!        0\n",
              "25553                                 I love Boston too!        1\n",
              "7337   Harvard Square is a beautiful sight when the w...        1\n",
              "28428   But then he goes and tells me that Boston sucks.        0\n",
              "26340                         the dallas mavericks suck.        0\n",
              "17628  War is hell for any President and I believe My...        0\n",
              "20702  And i've managed to cover all of my own food e...        1\n",
              "17935                             seattle sucks anyways.        0\n",
              "9440    i love Kappo Honda, which is across the street..        1\n",
              "425    UCLA is beautiful because it's so hilly, but I...        0\n",
              "9962   so we had to call his mom and they came then w...        0\n",
              "15044                     As much as I hate Tom Cruise..        0\n",
              "23812  I can only imagine, with the bloated egos and ...        1\n",
              "17147                        UCLA is stupid, I realized.        0\n",
              "11152  i hate the Lakers too but this isn't a basketb...        0\n",
              "15591  + + + Bruce Willis hat den PrÃ ¤ sident von Ko...        0\n",
              "1573   It's not like we want to see the Dallas Maveri...        1\n",
              "1534   i prefer teams such as the San Antonio Spurs a...        0\n",
              "1637   Personally, I blame Angelina Jolie, a psycholo...        0\n",
              "8562                        By the way, I hate LONDON...        0\n",
              "23373  ????that stupid BOX CAR-HONDA CRX = o = ? CRAP...        0\n",
              "14209  i look across my beautiful boston, and somethi...        1\n",
              "803                              i love seattle so much.        1\n",
              "3678                             i love my new Macbook..        1\n",
              "7152                           I really hate Tom Cruise.        0\n",
              "\n",
              "[28900 rows x 2 columns]"
            ]
          },
          "metadata": {
            "tags": []
          },
          "execution_count": 24
        }
      ]
    },
    {
      "metadata": {
        "id": "R9xuBKY0VeNu",
        "colab_type": "text"
      },
      "cell_type": "markdown",
      "source": [
        "[link text](https://)# New Section"
      ]
    }
  ]
}